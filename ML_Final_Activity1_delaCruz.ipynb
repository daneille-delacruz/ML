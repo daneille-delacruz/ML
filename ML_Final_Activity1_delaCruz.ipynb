{
  "nbformat": 4,
  "nbformat_minor": 0,
  "metadata": {
    "colab": {
      "provenance": [],
      "authorship_tag": "ABX9TyNVy1XvSN3zHhmiceJIOaHV",
      "include_colab_link": true
    },
    "kernelspec": {
      "name": "python3",
      "display_name": "Python 3"
    },
    "language_info": {
      "name": "python"
    }
  },
  "cells": [
    {
      "cell_type": "markdown",
      "metadata": {
        "id": "view-in-github",
        "colab_type": "text"
      },
      "source": [
        "<a href=\"https://colab.research.google.com/github/daneille-delacruz/ML/blob/main/ML_Final_Activity1_delaCruz.ipynb\" target=\"_parent\"><img src=\"https://colab.research.google.com/assets/colab-badge.svg\" alt=\"Open In Colab\"/></a>"
      ]
    },
    {
      "cell_type": "code",
      "execution_count": null,
      "metadata": {
        "colab": {
          "base_uri": "https://localhost:8080/"
        },
        "id": "N-nBx0FlGLgF",
        "outputId": "520ca890-0088-4481-9c66-9b29c96848ce"
      },
      "outputs": [
        {
          "output_type": "stream",
          "name": "stdout",
          "text": [
            "Enter prompt: What happened in 1815?\n",
            "The year 1815 was one of immense historical significance, primarily marked by the dramatic final act of the Napoleonic Wars and the subsequent reshaping of Europe. Here are the key events:\n",
            "\n",
            "1.  **Napoleon's Escape from Elba and \"The Hundred Days\" (February-June):**\n",
            "    *   **February 26:** Napoleon Bonaparte escaped from his exile on the island of Elba.\n",
            "    *   **March 1:** He landed in France near Cannes and began marching towards Paris, gathering support along the way.\n",
            "    *   **March 20:** Napoleon entered Paris triumphantly, beginning his brief return to power known as \"The Hundred Days.\" King Louis XVIII fled the city.\n",
            "    *   European powers, who were still negotiating at the Congress of Vienna, immediately declared Napoleon an outlaw and mobilized their armies.\n",
            "\n",
            "2.  **The Battle of Waterloo (June 18):**\n",
            "    *   The decisive battle of the Napoleonic Wars took place near Waterloo in present-day Belgium.\n",
            "    *   Napoleon's French army fought a combined force of British and Allied troops commanded by the Duke of Wellington, with crucial intervention from the Prussian army led by Field Marshal Blücher.\n",
            "    *   Napoleon suffered a crushing defeat, marking the definitive end of his rule.\n",
            "\n",
            "3.  **Napoleon's Second Abdication and Exile:**\n",
            "    *   **June 22:** Napoleon abdicated for the second and final time.\n",
            "    *   He attempted to escape to America but was captured by the British.\n",
            "    *   He was subsequently exiled to the remote island of Saint Helena in the South Atlantic, where he would remain until his death in 1821.\n",
            "\n",
            "4.  **The Congress of Vienna (1814-1815):**\n",
            "    *   Though it began in September 1814, the Congress of Vienna concluded its work and signed its **Final Act on June 9, 1815**, just days before Waterloo.\n",
            "    *   This diplomatic conference of European ambassadors, chaired by Austrian statesman Klemens von Metternich, aimed to redraw the map of Europe after the Napoleonic Wars, restore the balance of power, and establish a framework for long-term peace.\n",
            "    *   Key outcomes included:\n",
            "        *   The restoration of monarchies (the principle of legitimacy).\n",
            "        *   The creation of new states, like the Kingdom of the Netherlands (including Belgium), and the German Confederation.\n",
            "        *   Territorial adjustments aimed at containing France and creating a buffer zone.\n",
            "        *   The establishment of the \"Concert of Europe,\" an alliance system to maintain stability.\n",
            "\n",
            "5.  **Other Notable Events:**\n",
            "    *   **Battle of New Orleans (January 8):** Although the Treaty of Ghent, which ended the War of 1812 between the United States and Great Britain, had already been signed in December 1814, news of the treaty had not yet reached the combatants. American forces under Andrew Jackson achieved a decisive victory over the British.\n",
            "    *   **Mount Tambora Eruption (April):** The colossal eruption of Mount Tambora in Indonesia was one of the most powerful volcanic eruptions in recorded history. It had a significant global climatic impact, leading to the \"Year Without a Summer\" in 1816, causing widespread crop failures and famine in many parts of the Northern Hemisphere.\n",
            "\n",
            "In summary, 1815 was a pivotal year that definitively ended the Napoleonic era, established a new European political order that would last for decades, and saw environmental events with global repercussions.\n"
          ]
        }
      ],
      "source": [
        "from google.colab import ai\n",
        "\n",
        "user_prompt = input(\"Enter prompt: \")\n",
        "\n",
        "response = ai.generate_text(user_prompt)\n",
        "print(response)"
      ]
    }
  ]
}